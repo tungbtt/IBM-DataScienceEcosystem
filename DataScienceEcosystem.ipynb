{
 "cells": [
  {
   "cell_type": "markdown",
   "metadata": {},
   "source": [
    "<center>\n",
    "    <img src=\"https://cf-courses-data.s3.us.cloud-object-storage.appdomain.cloud/IBMDeveloperSkillsNetwork-DS0105EN-SkillsNetwork/labs/Module2/images/SN_web_lightmode.png\" width=\"300\" alt=\"cognitiveclass.ai logo\">\n",
    "</center>\n"
   ]
  },
  {
   "cell_type": "markdown",
   "metadata": {},
   "source": [
    "#### Add your code below following the instructions given in the course\n"
   ]
  },
  {
   "cell_type": "markdown",
   "metadata": {},
   "source": [
    "# **Data Science Tools and Ecosystem**"
   ]
  },
  {
   "cell_type": "markdown",
   "metadata": {},
   "source": [
    "### **Introduction**\n",
    "\n",
    "*In this notebook, Data Science Tools and Ecosystem are summarized.*"
   ]
  },
  {
   "cell_type": "markdown",
   "metadata": {
    "tags": []
   },
   "source": [
    "### **Objectives**\n",
    "- Data Science Languages\n",
    "- Data Science Libraries\n",
    "- Data Science tools\n",
    "- Arithmetic Expression Examples\n",
    "- A code cell to multiply and add numbers\n",
    "- A code cell to convert minutes to hours"
   ]
  },
  {
   "cell_type": "markdown",
   "metadata": {},
   "source": [
    "### **Data Science Languages**\n",
    " - Python\n",
    " - R\n",
    " - SQL\n",
    " - Julia\n",
    " - Java\n",
    " - Scala\n",
    " - MATLAB\n",
    " - C/C++\n",
    " - ..."
   ]
  },
  {
   "cell_type": "markdown",
   "metadata": {},
   "source": [
    "### **Data Science Libraries**\n",
    "\n",
    "- **Data Manipulation and Analysis:** Pandas\n",
    "- **Numerical and Scientific Computing:** Numpy\n",
    "- **Data Visualization:** Matplotlib, Seaborn, Plotly,..\n",
    "- **Machine Learning:**  Scikit-Learn, TensorFlow, Keras, PyTorch, XGBoost, LightGBM,...\n",
    "- **Natural Language Processing:** NLTK,Transformers \n",
    "- **Big Data Processing:** Dask"
   ]
  },
  {
   "cell_type": "markdown",
   "metadata": {},
   "source": [
    "### **Data Science tools**\n",
    "\n",
    "| Tool                 | Description                                 | Website                              |\n",
    "|----------------------|---------------------------------------------|--------------------------------------|\n",
    "| Python               | A versatile programming language for data analysis and machine learning. | [python.org](https://www.python.org/) |\n",
    "| Jupyter Notebook     | An interactive environment for data exploration and analysis. | [jupyter.org](https://jupyter.org/) |\n",
    "| NumPy                | A library for numerical computing in Python. | [numpy.org](https://numpy.org/) |\n",
    "| pandas               | A data manipulation library for Python. | [pandas.pydata.org](https://pandas.pydata.org/) |\n",
    "| Matplotlib           | A plotting library for creating visualizations in Python. | [matplotlib.org](https://matplotlib.org/) |\n",
    "| Seaborn              | A high-level interface for creating informative and attractive statistical graphics. | [seaborn.pydata.org](https://seaborn.pydata.org/) |\n",
    "| scikit-learn         | A machine learning library for Python. | [scikit-learn.org](https://scikit-learn.org/) |\n",
    "| TensorFlow           | An open-source machine learning framework developed by Google. | [tensorflow.org](https://www.tensorflow.org/) |\n",
    "| PyTorch              | An open-source machine learning library developed by Facebook's AI Research lab. | [pytorch.org](https://pytorch.org/) |\n",
    "| R                    | A programming language and environment for statistical computing and graphics. | [r-project.org](https://www.r-project.org/) |\n",
    "| SQL                  | A domain-specific language for managing and querying relational databases. | [w3schools.com/sql](https://www.w3schools.com/sql/) |\n",
    "| Apache Spark         | A distributed data processing framework for big data analytics. | [spark.apache.org](https://spark.apache.org/) |\n",
    "| Tableau              | A data visualization tool for creating interactive and shareable dashboards. | [tableau.com](https://www.tableau.com/) |\n",
    "\n"
   ]
  },
  {
   "cell_type": "markdown",
   "metadata": {},
   "source": [
    "### **Arithmetic Expression Examples**"
   ]
  },
  {
   "cell_type": "markdown",
   "metadata": {},
   "source": [
    "**Addition**\n",
    "\n",
    "The addition operator (+) is used to add two or more numbers together. For example:"
   ]
  },
  {
   "cell_type": "code",
   "execution_count": 1,
   "metadata": {
    "tags": []
   },
   "outputs": [
    {
     "data": {
      "text/plain": [
       "3"
      ]
     },
     "execution_count": 1,
     "metadata": {},
     "output_type": "execute_result"
    }
   ],
   "source": [
    "1 + 2"
   ]
  },
  {
   "cell_type": "markdown",
   "metadata": {},
   "source": [
    "**Subtraction**\n",
    "\n",
    "The subtraction operator (-) is used to subtract one number from another. For example:"
   ]
  },
  {
   "cell_type": "code",
   "execution_count": 2,
   "metadata": {
    "tags": []
   },
   "outputs": [
    {
     "data": {
      "text/plain": [
       "1"
      ]
     },
     "execution_count": 2,
     "metadata": {},
     "output_type": "execute_result"
    }
   ],
   "source": [
    "2 - 1"
   ]
  },
  {
   "cell_type": "markdown",
   "metadata": {},
   "source": [
    "**Multiplication**\n",
    "\n",
    "The multiplication operator (*) is used to multiply numbers together. For example:"
   ]
  },
  {
   "cell_type": "code",
   "execution_count": 3,
   "metadata": {
    "tags": []
   },
   "outputs": [
    {
     "data": {
      "text/plain": [
       "6"
      ]
     },
     "execution_count": 3,
     "metadata": {},
     "output_type": "execute_result"
    }
   ],
   "source": [
    "3 * 2"
   ]
  },
  {
   "cell_type": "markdown",
   "metadata": {},
   "source": [
    "**Division**\n",
    "\n",
    "The division operator (/) is used to divide one number by another. For example:\n"
   ]
  },
  {
   "cell_type": "code",
   "execution_count": 4,
   "metadata": {
    "tags": []
   },
   "outputs": [
    {
     "data": {
      "text/plain": [
       "6.5"
      ]
     },
     "execution_count": 4,
     "metadata": {},
     "output_type": "execute_result"
    }
   ],
   "source": [
    "13 / 2"
   ]
  },
  {
   "cell_type": "markdown",
   "metadata": {},
   "source": [
    "**Floor Division**\n",
    "\n",
    "The double-slash operator (//) is used for floor division, which returns the largest integer less than or equal to the result of division. For example:"
   ]
  },
  {
   "cell_type": "code",
   "execution_count": 5,
   "metadata": {
    "tags": []
   },
   "outputs": [
    {
     "data": {
      "text/plain": [
       "6"
      ]
     },
     "execution_count": 5,
     "metadata": {},
     "output_type": "execute_result"
    }
   ],
   "source": [
    "13 // 2"
   ]
  },
  {
   "cell_type": "markdown",
   "metadata": {
    "tags": []
   },
   "source": [
    "**Modulo**\n",
    "\n",
    "The modulo operator (%) is used to find the remainder of a division operation. For example:"
   ]
  },
  {
   "cell_type": "code",
   "execution_count": 6,
   "metadata": {
    "tags": []
   },
   "outputs": [
    {
     "data": {
      "text/plain": [
       "1"
      ]
     },
     "execution_count": 6,
     "metadata": {},
     "output_type": "execute_result"
    }
   ],
   "source": [
    "13 % 2"
   ]
  },
  {
   "cell_type": "markdown",
   "metadata": {},
   "source": [
    "### **A code cell to multiply and add numbers**"
   ]
  },
  {
   "cell_type": "code",
   "execution_count": 7,
   "metadata": {
    "tags": []
   },
   "outputs": [
    {
     "data": {
      "text/plain": [
       "40"
      ]
     },
     "execution_count": 7,
     "metadata": {},
     "output_type": "execute_result"
    }
   ],
   "source": [
    "12*3 + 4"
   ]
  },
  {
   "cell_type": "markdown",
   "metadata": {},
   "source": [
    "### **A code cell to convert minutes to hours**"
   ]
  },
  {
   "cell_type": "code",
   "execution_count": 8,
   "metadata": {
    "tags": []
   },
   "outputs": [
    {
     "name": "stdout",
     "output_type": "stream",
     "text": [
      "150 minutes is equal to 2.5 hours.\n"
     ]
    }
   ],
   "source": [
    "minutes = 150  # Replace this with the number of minutes you want to convert\n",
    "\n",
    "hours = minutes / 60\n",
    "\n",
    "print(f\"{minutes} minutes is equal to {hours} hours.\")"
   ]
  },
  {
   "cell_type": "markdown",
   "metadata": {},
   "source": [
    "## Author\n",
    "\n",
    "Tung Bui Thanh"
   ]
  }
 ],
 "metadata": {
  "kernelspec": {
   "display_name": "Python",
   "language": "python",
   "name": "conda-env-python-py"
  },
  "language_info": {
   "codemirror_mode": {
    "name": "ipython",
    "version": 3
   },
   "file_extension": ".py",
   "mimetype": "text/x-python",
   "name": "python",
   "nbconvert_exporter": "python",
   "pygments_lexer": "ipython3",
   "version": "3.7.12"
  }
 },
 "nbformat": 4,
 "nbformat_minor": 4
}
